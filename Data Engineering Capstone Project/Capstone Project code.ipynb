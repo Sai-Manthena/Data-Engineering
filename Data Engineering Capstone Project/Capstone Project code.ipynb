{
 "cells": [
  {
   "cell_type": "code",
   "execution_count": 1,
   "metadata": {
    "editable": true
   },
   "outputs": [],
   "source": [
    "from pyspark.sql import SparkSession\n",
    "from pyspark.sql import SQLContext\n",
    "from pyspark.sql.functions import udf\n",
    "from pyspark.sql.types import StringType\n",
    "from pyspark.sql.types import IntegerType\n",
    "import  pyspark.sql.functions as F\n",
    "from pyspark.sql.functions import col\n",
    "from pyspark.sql.functions import expr\n",
    "from pyspark.sql.functions import countDistinct\n",
    "from pyspark.sql.functions import desc\n",
    "from pyspark.sql.functions import asc\n",
    "#from pyspark.sql.functions import sum as Fsum\n",
    "\n",
    "\n",
    "import datetime\n",
    "\n",
    "import numpy as np\n",
    "import pandas as pd"
   ]
  },
  {
   "cell_type": "code",
   "execution_count": 4,
   "metadata": {
    "editable": true
   },
   "outputs": [],
   "source": [
    "from pyspark.sql import SparkSession\n",
    "spark = SparkSession.builder.\\\n",
    "config(\"spark.jars.packages\",\"saurfang:spark-sas7bdat:2.0.0-s_2.11\")\\\n",
    ".enableHiveSupport().getOrCreate()\n",
    "#Immig_data =spark.read.format('com.github.saurfang.sas.spark').load('../../data/18-83510-I94-Data-2016/i94_apr16_sub.sas7bdat')\n",
    "city_data=spark.read.csv('us-cities-demographics.csv',sep=\";\", inferSchema=True, header=True)"
   ]
  },
  {
   "cell_type": "code",
   "execution_count": 5,
   "metadata": {
    "editable": true
   },
   "outputs": [],
   "source": [
    "#Immig_data.write.mode('overwrite').parquet(\"sas_data\")\n",
    "Immmig_data=spark.read.parquet(\"sas_data\")"
   ]
  },
  {
   "cell_type": "code",
   "execution_count": 6,
   "metadata": {
    "editable": true
   },
   "outputs": [
    {
     "name": "stdout",
     "output_type": "stream",
     "text": [
      "root\n",
      " |-- cicid: double (nullable = true)\n",
      " |-- i94yr: double (nullable = true)\n",
      " |-- i94mon: double (nullable = true)\n",
      " |-- i94cit: double (nullable = true)\n",
      " |-- i94res: double (nullable = true)\n",
      " |-- i94port: string (nullable = true)\n",
      " |-- arrdate: double (nullable = true)\n",
      " |-- i94mode: double (nullable = true)\n",
      " |-- i94addr: string (nullable = true)\n",
      " |-- depdate: double (nullable = true)\n",
      " |-- i94bir: double (nullable = true)\n",
      " |-- i94visa: double (nullable = true)\n",
      " |-- count: double (nullable = true)\n",
      " |-- dtadfile: string (nullable = true)\n",
      " |-- visapost: string (nullable = true)\n",
      " |-- occup: string (nullable = true)\n",
      " |-- entdepa: string (nullable = true)\n",
      " |-- entdepd: string (nullable = true)\n",
      " |-- entdepu: string (nullable = true)\n",
      " |-- matflag: string (nullable = true)\n",
      " |-- biryear: double (nullable = true)\n",
      " |-- dtaddto: string (nullable = true)\n",
      " |-- gender: string (nullable = true)\n",
      " |-- insnum: string (nullable = true)\n",
      " |-- airline: string (nullable = true)\n",
      " |-- admnum: double (nullable = true)\n",
      " |-- fltno: string (nullable = true)\n",
      " |-- visatype: string (nullable = true)\n",
      "\n"
     ]
    }
   ],
   "source": [
    "Immmig_data.printSchema()"
   ]
  },
  {
   "cell_type": "code",
   "execution_count": 7,
   "metadata": {
    "editable": true
   },
   "outputs": [
    {
     "name": "stdout",
     "output_type": "stream",
     "text": [
      "+---------+------+------+------+------+-------+-------+-------+-------+-------+------+-------+-----+--------+--------+-----+-------+-------+-------+-------+-------+--------+------+------+-------+--------------+-----+--------+\n",
      "|    cicid| i94yr|i94mon|i94cit|i94res|i94port|arrdate|i94mode|i94addr|depdate|i94bir|i94visa|count|dtadfile|visapost|occup|entdepa|entdepd|entdepu|matflag|biryear| dtaddto|gender|insnum|airline|        admnum|fltno|visatype|\n",
      "+---------+------+------+------+------+-------+-------+-------+-------+-------+------+-------+-----+--------+--------+-----+-------+-------+-------+-------+-------+--------+------+------+-------+--------------+-----+--------+\n",
      "|5748517.0|2016.0|   4.0| 245.0| 438.0|    LOS|20574.0|    1.0|     CA|20582.0|  40.0|    1.0|  1.0|20160430|     SYD| null|      G|      O|   null|      M| 1976.0|10292016|     F|  null|     QF|9.495387003E10|00011|      B1|\n",
      "|5748518.0|2016.0|   4.0| 245.0| 438.0|    LOS|20574.0|    1.0|     NV|20591.0|  32.0|    1.0|  1.0|20160430|     SYD| null|      G|      O|   null|      M| 1984.0|10292016|     F|  null|     VA|9.495562283E10|00007|      B1|\n",
      "|5748519.0|2016.0|   4.0| 245.0| 438.0|    LOS|20574.0|    1.0|     WA|20582.0|  29.0|    1.0|  1.0|20160430|     SYD| null|      G|      O|   null|      M| 1987.0|10292016|     M|  null|     DL|9.495640653E10|00040|      B1|\n",
      "|5748520.0|2016.0|   4.0| 245.0| 438.0|    LOS|20574.0|    1.0|     WA|20588.0|  29.0|    1.0|  1.0|20160430|     SYD| null|      G|      O|   null|      M| 1987.0|10292016|     F|  null|     DL|9.495645143E10|00040|      B1|\n",
      "|5748521.0|2016.0|   4.0| 245.0| 438.0|    LOS|20574.0|    1.0|     WA|20588.0|  28.0|    1.0|  1.0|20160430|     SYD| null|      G|      O|   null|      M| 1988.0|10292016|     M|  null|     DL|9.495638813E10|00040|      B1|\n",
      "+---------+------+------+------+------+-------+-------+-------+-------+-------+------+-------+-----+--------+--------+-----+-------+-------+-------+-------+-------+--------+------+------+-------+--------------+-----+--------+\n",
      "only showing top 5 rows\n",
      "\n"
     ]
    }
   ],
   "source": [
    "Immmig_data.show(5)"
   ]
  },
  {
   "cell_type": "code",
   "execution_count": null,
   "metadata": {
    "editable": true
   },
   "outputs": [],
   "source": [
    "city_data.printSchema()"
   ]
  },
  {
   "cell_type": "code",
   "execution_count": null,
   "metadata": {
    "editable": true
   },
   "outputs": [],
   "source": [
    "city_data.show(5)"
   ]
  },
  {
   "cell_type": "code",
   "execution_count": 8,
   "metadata": {
    "editable": true
   },
   "outputs": [
    {
     "data": {
      "text/plain": [
       "3096313"
      ]
     },
     "execution_count": 8,
     "metadata": {},
     "output_type": "execute_result"
    }
   ],
   "source": [
    "#Exploring the data and identifying the data issues.\n",
    "Immmig_data.count()"
   ]
  },
  {
   "cell_type": "code",
   "execution_count": 62,
   "metadata": {
    "editable": true
   },
   "outputs": [
    {
     "name": "stdout",
     "output_type": "stream",
     "text": [
      "+--------------------------+\n",
      "|count(DISTINCT state_code)|\n",
      "+--------------------------+\n",
      "|                        49|\n",
      "+--------------------------+\n",
      "\n"
     ]
    }
   ],
   "source": [
    "#Based on the Cicid count which matches with Total cound of Immigration data we can consider cicid to unique with no duplictae values\n",
    "ccid_count = State_dtls.select(countDistinct(\"cicid\"))\n",
    "ccid_count.show()"
   ]
  },
  {
   "cell_type": "code",
   "execution_count": null,
   "metadata": {
    "editable": true
   },
   "outputs": [],
   "source": [
    "#checking below if we have any missing values for the required columns in Immigration data. \n",
    "Immmig_data.describe(\"i94addr\",\"i94yr\",\"i94mon\",\"arrdate\",\"visatype\",\"i94mode\").show()"
   ]
  },
  {
   "cell_type": "code",
   "execution_count": 12,
   "metadata": {
    "editable": true
   },
   "outputs": [],
   "source": [
    "#Dropping rows with null values\n",
    "Immmig_data = Immmig_data.dropna(how = \"any\", subset = [\"cicid\", \"i94addr\",\"i94mode\"])"
   ]
  },
  {
   "cell_type": "code",
   "execution_count": 12,
   "metadata": {
    "editable": true
   },
   "outputs": [
    {
     "name": "stdout",
     "output_type": "stream",
     "text": [
      "+-------+------------------+------------------+-------+-------+------------------+--------+------------------+\n",
      "|summary|             cicid|           i94addr|  i94yr| i94mon|           arrdate|visatype|           i94mode|\n",
      "+-------+------------------+------------------+-------+-------+------------------+--------+------------------+\n",
      "|  count|           2943721|           2943721|2943721|2943721|           2943721| 2943721|           2943721|\n",
      "|   mean|3048991.7026433554|51.652482269503544| 2016.0|    4.0|20559.843950224902|    null|1.0541477945769997|\n",
      "| stddev|1748336.5957907767| 42.97906231370983|    0.0|    0.0| 8.776730783982536|    null|0.4522191352762033|\n",
      "|    min|               7.0|                ..| 2016.0|    4.0|           20545.0|      B1|               1.0|\n",
      "|    max|         6099247.0|                ZU| 2016.0|    4.0|           20574.0|      WT|               9.0|\n",
      "+-------+------------------+------------------+-------+-------+------------------+--------+------------------+\n",
      "\n"
     ]
    }
   ],
   "source": [
    "#Dropped all the rows with no address as our analysis is only based on the state codes in US. \n",
    "Immmig_data.describe(\"cicid\",\"i94addr\",\"i94yr\",\"i94mon\",\"arrdate\",\"visatype\",\"i94mode\").show()"
   ]
  },
  {
   "cell_type": "code",
   "execution_count": 13,
   "metadata": {
    "editable": true
   },
   "outputs": [
    {
     "name": "stdout",
     "output_type": "stream",
     "text": [
      "+-----+\n",
      "|cicid|\n",
      "+-----+\n",
      "|  7.0|\n",
      "| 15.0|\n",
      "| 16.0|\n",
      "| 17.0|\n",
      "| 18.0|\n",
      "| 19.0|\n",
      "| 20.0|\n",
      "| 21.0|\n",
      "| 22.0|\n",
      "| 23.0|\n",
      "| 24.0|\n",
      "| 27.0|\n",
      "| 28.0|\n",
      "| 29.0|\n",
      "| 30.0|\n",
      "| 31.0|\n",
      "| 33.0|\n",
      "| 34.0|\n",
      "| 35.0|\n",
      "| 36.0|\n",
      "+-----+\n",
      "only showing top 20 rows\n",
      "\n"
     ]
    }
   ],
   "source": [
    "#Checking if there are any Empty Values in Cicid column\n",
    "Immmig_data.select(\"cicid\").dropDuplicates().sort(\"cicid\").show()"
   ]
  },
  {
   "cell_type": "code",
   "execution_count": 14,
   "metadata": {
    "editable": true
   },
   "outputs": [],
   "source": [
    "#Changing the data types from Double to Int for all the Numeric Fields.I could have done this by defining a new schema for \\\n",
    "#Immigration data and infering this schema when importing the data.\n",
    "#Converting the SAS Numeric date form to actual date form.\n",
    "Immmig_data = Immmig_data.withColumn('i94yr', expr(\"cast(i94yr  as int)\")) \\\n",
    ".withColumn('i94mon', expr(\"cast(i94mon  as int)\")) \\\n",
    ".withColumn('arrdate', expr(\"date_add('1960-01-01',arrdate)\")) \\\n",
    ".withColumn('depdate', expr(\"date_add('1960-01-01',depdate)\")) \\\n",
    ".withColumn('cicid', expr(\"cast(cicid  as int)\")) \\\n",
    ".withColumn('i94mode', expr(\"cast(i94mode  as int)\")) \\\n",
    ".withColumn('i94bir', expr(\"cast(i94bir  as int)\")) \\\n",
    ".withColumn('i94visa', expr(\"cast(i94visa  as int)\")) \\\n",
    ".withColumn('biryear', expr(\"cast(biryear  as int)\"))"
   ]
  },
  {
   "cell_type": "code",
   "execution_count": null,
   "metadata": {
    "editable": true
   },
   "outputs": [],
   "source": [
    "Immmig_data.groupby(\"i94addr\").count().orderBy(desc(\"count\")).show()\n"
   ]
  },
  {
   "cell_type": "code",
   "execution_count": 38,
   "metadata": {
    "editable": true
   },
   "outputs": [
    {
     "name": "stdout",
     "output_type": "stream",
     "text": [
      "+-------+-----+------+------+------+-------+----------+-------+-------+----------+------+-------+-----+--------+--------+-----+-------+-------+-------+-------+-------+--------+------+------+-------+--------------+-----+--------+\n",
      "|  cicid|i94yr|i94mon|i94cit|i94res|i94port|   arrdate|i94mode|i94addr|   depdate|i94bir|i94visa|count|dtadfile|visapost|occup|entdepa|entdepd|entdepu|matflag|biryear| dtaddto|gender|insnum|airline|        admnum|fltno|visatype|\n",
      "+-------+-----+------+------+------+-------+----------+-------+-------+----------+------+-------+-----+--------+--------+-----+-------+-------+-------+-------+-------+--------+------+------+-------+--------------+-----+--------+\n",
      "|5748517| 2016|     4| 245.0| 438.0|    LOS|2016-04-30|      1|     CA|2016-05-08|    40|      1|  1.0|20160430|     SYD| null|      G|      O|   null|      M|   1976|10292016|     F|  null|     QF|9.495387003E10|00011|      B1|\n",
      "|5748518| 2016|     4| 245.0| 438.0|    LOS|2016-04-30|      1|     NV|2016-05-17|    32|      1|  1.0|20160430|     SYD| null|      G|      O|   null|      M|   1984|10292016|     F|  null|     VA|9.495562283E10|00007|      B1|\n",
      "|5748519| 2016|     4| 245.0| 438.0|    LOS|2016-04-30|      1|     WA|2016-05-08|    29|      1|  1.0|20160430|     SYD| null|      G|      O|   null|      M|   1987|10292016|     M|  null|     DL|9.495640653E10|00040|      B1|\n",
      "|5748520| 2016|     4| 245.0| 438.0|    LOS|2016-04-30|      1|     WA|2016-05-14|    29|      1|  1.0|20160430|     SYD| null|      G|      O|   null|      M|   1987|10292016|     F|  null|     DL|9.495645143E10|00040|      B1|\n",
      "|5748521| 2016|     4| 245.0| 438.0|    LOS|2016-04-30|      1|     WA|2016-05-14|    28|      1|  1.0|20160430|     SYD| null|      G|      O|   null|      M|   1988|10292016|     M|  null|     DL|9.495638813E10|00040|      B1|\n",
      "+-------+-----+------+------+------+-------+----------+-------+-------+----------+------+-------+-----+--------+--------+-----+-------+-------+-------+-------+-------+--------+------+------+-------+--------------+-----+--------+\n",
      "only showing top 5 rows\n",
      "\n"
     ]
    }
   ],
   "source": [
    "Immmig_data.show(5)"
   ]
  },
  {
   "cell_type": "code",
   "execution_count": 15,
   "metadata": {
    "editable": true
   },
   "outputs": [
    {
     "data": {
      "text/plain": [
       "2891"
      ]
     },
     "execution_count": 15,
     "metadata": {},
     "output_type": "execute_result"
    }
   ],
   "source": [
    "city_data.count()"
   ]
  },
  {
   "cell_type": "code",
   "execution_count": 16,
   "metadata": {
    "editable": true
   },
   "outputs": [
    {
     "name": "stdout",
     "output_type": "stream",
     "text": [
      "+-------+-------+---------+------------------+------------------+----------+-----------------+\n",
      "|summary|   City|    State|   Male Population| Female Population|State Code|       Median Age|\n",
      "+-------+-------+---------+------------------+------------------+----------+-----------------+\n",
      "|  count|   2891|     2891|              2888|              2888|      2891|             2891|\n",
      "|   mean|   null|     null| 97328.42624653739|101769.63088642659|      null|35.49488066413016|\n",
      "| stddev|   null|     null|216299.93692873296|231564.57257148277|      null|4.401616730099886|\n",
      "|    min|Abilene|  Alabama|             29281|             27348|        AK|             22.9|\n",
      "|    max|   Yuma|Wisconsin|           4081698|           4468707|        WI|             70.5|\n",
      "+-------+-------+---------+------------------+------------------+----------+-----------------+\n",
      "\n"
     ]
    }
   ],
   "source": [
    "city_data.describe(\"City\",\"State\",\"Male Population\",\"Female Population\",\"State Code\",\"Median Age\").show()"
   ]
  },
  {
   "cell_type": "code",
   "execution_count": 17,
   "metadata": {
    "editable": true
   },
   "outputs": [],
   "source": [
    "#Dropping Null rows if there are any.\n",
    "city_data = city_data.dropna(how = \"any\", subset = [\"City\", \"State\",\"State Code\"])"
   ]
  },
  {
   "cell_type": "code",
   "execution_count": 18,
   "metadata": {
    "editable": true
   },
   "outputs": [
    {
     "data": {
      "text/plain": [
       "2891"
      ]
     },
     "execution_count": 18,
     "metadata": {},
     "output_type": "execute_result"
    }
   ],
   "source": [
    "city_data.count()"
   ]
  },
  {
   "cell_type": "code",
   "execution_count": 18,
   "metadata": {
    "editable": true
   },
   "outputs": [
    {
     "name": "stdout",
     "output_type": "stream",
     "text": [
      "+--------+-------------+----------+----------------+--------------------+-----+\n",
      "|    City|        State|State Code|Total Population|                Race|Count|\n",
      "+--------+-------------+----------+----------------+--------------------+-----+\n",
      "|Lawrence|Massachusetts|        MA|           80240|               Asian| 2149|\n",
      "|Lawrence|       Kansas|        KS|           93916|American Indian a...| 4239|\n",
      "|Lawrence|       Kansas|        KS|           93916|Black or African-...| 5777|\n",
      "|Lawrence|       Kansas|        KS|           93916|  Hispanic or Latino| 6435|\n",
      "|Lawrence|       Kansas|        KS|           93916|               Asian| 6547|\n",
      "|Lawrence|Massachusetts|        MA|           80240|Black or African-...| 9221|\n",
      "|Lawrence|Massachusetts|        MA|           80240|               White|40757|\n",
      "|Lawrence|Massachusetts|        MA|           80240|  Hispanic or Latino|63175|\n",
      "|Lawrence|       Kansas|        KS|           93916|               White|79793|\n",
      "+--------+-------------+----------+----------------+--------------------+-----+\n",
      "\n"
     ]
    }
   ],
   "source": [
    "#validating why we have duplicate values for each city and State\n",
    "city_data.select(\"City\", \"State\",\"State Code\",\"Total Population\",\"Race\",\"Count\").filter(city_data[\"City\"].isin([\"Lawrence\"])).sort(\"Count\").show()"
   ]
  },
  {
   "cell_type": "code",
   "execution_count": 19,
   "metadata": {
    "editable": true
   },
   "outputs": [],
   "source": [
    "#changing the name of the columns to remove trailing whitespaces.\n",
    "city_data = city_data.selectExpr(\"City as city\",\"State as state\",\"`Median Age` as Median_age\",\\\n",
    "                                 \"`Male Population` as Male_Population\",\"`Female Population` as Female_Population\",\\\n",
    "                                 \"`Total Population` as Total_Population\",\"`Number of Veterans` as Total_Veterans\",\\\n",
    "                                 \"`Foreign-born` as Foreign_born\",\"`Average Household Size` as Average_Household_Size\",\\\n",
    "                                 \"`State Code` as State_Code\",\"Race as race\",\"count as count\")"
   ]
  },
  {
   "cell_type": "code",
   "execution_count": null,
   "metadata": {
    "editable": true
   },
   "outputs": [],
   "source": [
    "city_data.show(5)"
   ]
  },
  {
   "cell_type": "code",
   "execution_count": 20,
   "metadata": {
    "editable": true
   },
   "outputs": [],
   "source": [
    "#Processing both immigration and City data to create analytics tables\n",
    "#Creating Immigration view to store data in staging table\n",
    "Immmig_data.createOrReplaceTempView(\"stg_Immig_data\")\n",
    "city_data.createOrReplaceTempView(\"stg_city_data\")"
   ]
  },
  {
   "cell_type": "code",
   "execution_count": 44,
   "metadata": {
    "editable": true
   },
   "outputs": [],
   "source": [
    "# extract columns to create Immig_dtls table\n",
    "Immig_dtls = spark.sql(\"\"\"\n",
    "             select Distinct \n",
    "             a.cicid as visitor_id,\n",
    "             a.i94yr,\n",
    "             a.i94mon,\n",
    "             a.arrdate as arrival_date,\n",
    "             Case when a.i94mode = 1 then 'AIR' \\\n",
    "             when a.i94mode = 2 then 'Sea'\\\n",
    "             when a.i94mode = 3 then 'Land' else 'other' end as i94mode,\n",
    "             a.depdate as departure_date,\n",
    "             a.i94bir as Age,\n",
    "             Case when a.i94visa = 1 then 'Business'\\\n",
    "                  when a.i94visa = 2 then 'Pleasure' \\\n",
    "                  when a.i94visa = 3 then 'Student' else 'other' end as i94visa,\n",
    "             a.dtadfile as create_dt,\n",
    "             a.visapost ,\n",
    "             a.biryear as birthyr,\n",
    "             a.gender,\n",
    "             a.airline,\n",
    "             a.visatype\n",
    "             from\n",
    "             stg_Immig_data  a left join\n",
    "             stg_city_data b on a.i94addr = b.State_Code\n",
    "             where \n",
    "             a.cicid is not null \n",
    "          \"\"\")"
   ]
  },
  {
   "cell_type": "code",
   "execution_count": null,
   "metadata": {
    "editable": true
   },
   "outputs": [],
   "source": [
    "# write Immig_dtls table to parquet files partitioned by i94State. if more yrs of data is added,I would partition the data by year and state or year \\\n",
    "#or year and month.\n",
    "Immig_dtls.write.mode('overwrite').partitionBy(\"i94State\").parquet(\"Immigration_dtls\")"
   ]
  },
  {
   "cell_type": "code",
   "execution_count": 67,
   "metadata": {
    "editable": true
   },
   "outputs": [],
   "source": [
    "Immig_dtls.createOrReplaceTempView(\"dim_Immig_dtls\")\n",
    "#city_data.createOrReplaceTempView(\"stg_city_data\")"
   ]
  },
  {
   "cell_type": "code",
   "execution_count": 30,
   "metadata": {
    "editable": true
   },
   "outputs": [
    {
     "data": {
      "text/plain": [
       "2943721"
      ]
     },
     "execution_count": 30,
     "metadata": {},
     "output_type": "execute_result"
    }
   ],
   "source": [
    "Immig_dtls.count()"
   ]
  },
  {
   "cell_type": "code",
   "execution_count": 59,
   "metadata": {
    "editable": true
   },
   "outputs": [],
   "source": [
    "# extract columns to create State_dtls table\n",
    "State_dtls = spark.sql(\"\"\"\n",
    "             select Distinct\n",
    "             monotonically_increasing_id() as state_id,\n",
    "             a.state as state,\n",
    "             a.State_Code,\n",
    "             a.city\n",
    "             from\n",
    "             stg_city_data  a \n",
    "             where\n",
    "             a.State_Code is not null\n",
    "          \"\"\")"
   ]
  },
  {
   "cell_type": "code",
   "execution_count": 66,
   "metadata": {
    "editable": true
   },
   "outputs": [],
   "source": [
    "# write users table to parquet files\n",
    "#State_dtls.write.mode('overwrite').parquet(\"State Details\")\n",
    "State_dtls.createOrReplaceTempView(\"dim_State_dtls\")"
   ]
  },
  {
   "cell_type": "code",
   "execution_count": 60,
   "metadata": {
    "editable": true
   },
   "outputs": [
    {
     "name": "stdout",
     "output_type": "stream",
     "text": [
      "+--------+----------+----------+--------------+\n",
      "|state_id|     state|State_Code|          city|\n",
      "+--------+----------+----------+--------------+\n",
      "|     245|     Texas|        TX|       Abilene|\n",
      "|     352|  Colorado|        CO|  Fort Collins|\n",
      "|     583|   Georgia|        GA|      Savannah|\n",
      "|     630|   Arizona|        AZ|San Tan Valley|\n",
      "|     886|California|        CA|        Rialto|\n",
      "+--------+----------+----------+--------------+\n",
      "only showing top 5 rows\n",
      "\n"
     ]
    }
   ],
   "source": [
    "spark.sql(\"\"\"\n",
    "             select Distinct\n",
    "             monotonically_increasing_id() as state_id,\n",
    "             a.state as state,\n",
    "             a.State_Code,\n",
    "             a.city\n",
    "             from\n",
    "             stg_city_data  a \n",
    "             where\n",
    "             a.State_Code is not null\n",
    "          \"\"\")"
   ]
  },
  {
   "cell_type": "code",
   "execution_count": 64,
   "metadata": {
    "editable": true
   },
   "outputs": [],
   "source": [
    "# extract columns to create Date_table \n",
    "Date_table = spark.sql(\"\"\"\n",
    "             select Distinct\n",
    "             a.arrdate as Date,\n",
    "             dayofmonth(a.arrdate) as day,\n",
    "             weekofyear(a.arrdate) as week,\n",
    "             month(a.arrdate) as month,\n",
    "             year(a.arrdate) as year,\n",
    "             dayofweek(a.arrdate) as weekday\n",
    "             from\n",
    "             stg_Immig_data  a \n",
    "             where\n",
    "             a.arrdate is not null\n",
    "          \"\"\")"
   ]
  },
  {
   "cell_type": "code",
   "execution_count": 68,
   "metadata": {
    "editable": true
   },
   "outputs": [],
   "source": [
    "Date_table.createOrReplaceTempView(\"dim_Date_table\")"
   ]
  },
  {
   "cell_type": "code",
   "execution_count": 75,
   "metadata": {
    "editable": true
   },
   "outputs": [
    {
     "name": "stdout",
     "output_type": "stream",
     "text": [
      "+----------+---+----+-----+----+-------+\n",
      "|      Date|day|week|month|year|weekday|\n",
      "+----------+---+----+-----+----+-------+\n",
      "|2016-04-07|  7|  14|    4|2016|      5|\n",
      "|2016-04-30| 30|  17|    4|2016|      7|\n",
      "|2016-04-05|  5|  14|    4|2016|      3|\n",
      "|2016-04-14| 14|  15|    4|2016|      5|\n",
      "|2016-04-22| 22|  16|    4|2016|      6|\n",
      "+----------+---+----+-----+----+-------+\n",
      "only showing top 5 rows\n",
      "\n"
     ]
    }
   ],
   "source": [
    "# write data table to parquet files partitioned by year and month\n",
    "#Date_table.write.mode('overwrite').partitionBy(\"year\", \"month\").parquet(\"Date_Table\")\n",
    "Date_table.show(5)"
   ]
  },
  {
   "cell_type": "code",
   "execution_count": 50,
   "metadata": {
    "editable": true
   },
   "outputs": [],
   "source": [
    "# extract columns to create Immig_visit fact table\n",
    "Immig_visit = spark.sql(\"\"\"\n",
    "             select Distinct \n",
    "             monotonically_increasing_id() as Immig_visit_id,\n",
    "             a.cicid as visitor_id,\n",
    "             a.arrdate as Date,\n",
    "             month(a.arrdate) as month,\n",
    "             year(a.arrdate) as year,\n",
    "             a.i94mode,\n",
    "             a.i94visa,\n",
    "             a.matflag as Match_flag,\n",
    "             Case when a.i94addr = b.State_Code then a.i94addr \\\n",
    "             else '99' end as i94State\n",
    "             from\n",
    "             stg_Immig_data  a left join\n",
    "             stg_city_data b on a.i94addr = b.State_Code\n",
    "             where \n",
    "             a.cicid is not null \n",
    "          \"\"\")"
   ]
  },
  {
   "cell_type": "code",
   "execution_count": 69,
   "metadata": {
    "editable": true
   },
   "outputs": [],
   "source": [
    "# write Immig_visit table to parquet files partitioned by i94addr\n",
    "#Immig_visit.write.mode('overwrite').partitionBy(\"i94addr\").parquet(\"Immig_Visit\")\n",
    "Immig_visit.createOrReplaceTempView(\"Fact_Immig_visit\")\n"
   ]
  },
  {
   "cell_type": "code",
   "execution_count": null,
   "metadata": {
    "editable": true
   },
   "outputs": [],
   "source": [
    "Immig_visit.printSchema()"
   ]
  },
  {
   "cell_type": "code",
   "execution_count": 73,
   "metadata": {
    "editable": true
   },
   "outputs": [
    {
     "name": "stdout",
     "output_type": "stream",
     "text": [
      "+--------------------------+-------+\n",
      "|count(DISTINCT visitor_id)|i94mode|\n",
      "+--------------------------+-------+\n",
      "|                   2877095|      1|\n",
      "|                     48488|      3|\n",
      "|                      6326|      9|\n",
      "+--------------------------+-------+\n",
      "only showing top 3 rows\n",
      "\n"
     ]
    }
   ],
   "source": [
    "spark.sql(\"\"\"\n",
    "             select\n",
    "             count(Distinct a.visitor_id),\n",
    "             b.i94mode,\n",
    "             c.week,\n",
    "             d.state\n",
    "             from\n",
    "             Fact_Immig_visit  a inner join \n",
    "             dim_Immig_dtls b on a.visitor_id = b.visitor_id inner join\n",
    "             dim_Date_table c on a.date = c.date inner join \n",
    "             dim_State_dtls d on d.state_code = i94State\n",
    "             where\n",
    "             a.i94mode = 1\n",
    "             group by \n",
    "             a.i94mode,c.week,d.state\n",
    "          \"\"\").show(10)"
   ]
  },
  {
   "cell_type": "code",
   "execution_count": null,
   "metadata": {
    "editable": true
   },
   "outputs": [],
   "source": []
  },
  {
   "cell_type": "code",
   "execution_count": null,
   "metadata": {
    "editable": true
   },
   "outputs": [],
   "source": []
  },
  {
   "cell_type": "code",
   "execution_count": null,
   "metadata": {
    "editable": true
   },
   "outputs": [],
   "source": []
  }
 ],
 "metadata": {
  "kernelspec": {
   "display_name": "Python 3",
   "language": "python",
   "name": "python3"
  },
  "language_info": {
   "codemirror_mode": {
    "name": "ipython",
    "version": 3
   },
   "file_extension": ".py",
   "mimetype": "text/x-python",
   "name": "python",
   "nbconvert_exporter": "python",
   "pygments_lexer": "ipython3",
   "version": "3.6.3"
  }
 },
 "nbformat": 4,
 "nbformat_minor": 4
}
